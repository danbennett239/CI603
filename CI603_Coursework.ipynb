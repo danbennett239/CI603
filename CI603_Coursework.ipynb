{
  "nbformat": 4,
  "nbformat_minor": 0,
  "metadata": {
    "colab": {
      "provenance": [],
      "collapsed_sections": [
        "oeDOgvsWhiVd"
      ],
      "toc_visible": true,
      "mount_file_id": "1Ak3YvqLeo-1RvNaKU9nd9b7IYgKOS-a6",
      "authorship_tag": "ABX9TyOrqkzaXhdukanA4gBR/+nx",
      "include_colab_link": true
    },
    "kernelspec": {
      "name": "python3",
      "display_name": "Python 3"
    },
    "language_info": {
      "name": "python"
    }
  },
  "cells": [
    {
      "cell_type": "markdown",
      "metadata": {
        "id": "view-in-github",
        "colab_type": "text"
      },
      "source": [
        "<a href=\"https://colab.research.google.com/github/danbennett239/CI603/blob/main/CI603_Coursework.ipynb\" target=\"_parent\"><img src=\"https://colab.research.google.com/assets/colab-badge.svg\" alt=\"Open In Colab\"/></a>"
      ]
    },
    {
      "cell_type": "code",
      "execution_count": null,
      "metadata": {
        "id": "Nkg3eF52Cd-Z"
      },
      "outputs": [],
      "source": [
        "import pandas as pd\n",
        "import numpy as np\n",
        "from sklearn.ensemble import RandomForestClassifier\n",
        "import matplotlib.pyplot as plt\n",
        "import seaborn as sns\n",
        "from sklearn.preprocessing import StandardScaler\n",
        "from sklearn.metrics import f1_score, precision_score, recall_score\n",
        "from sklearn.ensemble import IsolationForest\n",
        "from itertools import product"
      ]
    },
    {
      "cell_type": "code",
      "source": [
        "from google.colab import drive\n",
        "drive.mount('/content/drive')"
      ],
      "metadata": {
        "id": "tzDhCCp8JOme",
        "colab": {
          "base_uri": "https://localhost:8080/"
        },
        "outputId": "61c78955-b796-441a-8564-4092a37f9f30"
      },
      "execution_count": null,
      "outputs": [
        {
          "output_type": "stream",
          "name": "stdout",
          "text": [
            "Drive already mounted at /content/drive; to attempt to forcibly remount, call drive.mount(\"/content/drive\", force_remount=True).\n"
          ]
        }
      ]
    },
    {
      "cell_type": "markdown",
      "source": [
        "### Dataset Description and Visualisation"
      ],
      "metadata": {
        "id": "oeDOgvsWhiVd"
      }
    },
    {
      "cell_type": "markdown",
      "source": [
        "#### Dataset Structure and Integrity"
      ],
      "metadata": {
        "id": "igBFW-uDjOD0"
      }
    },
    {
      "cell_type": "code",
      "source": [
        "# Load the dataset and check its shape, column names, and missing values\n",
        "df = pd.read_csv('/content/drive/MyDrive/CI603/creditcard.csv')\n",
        "print(f\"Dataset shape: {df.shape}\")\n",
        "print(\"\\nColumn names:\")\n",
        "print(df.columns.tolist())\n",
        "\n",
        "missing = df.isnull().sum()\n",
        "print(\"\\nMissing values per column:\")\n",
        "print(missing[missing > 0] if missing.sum() > 0 else \"No missing values found.\")"
      ],
      "metadata": {
        "colab": {
          "base_uri": "https://localhost:8080/"
        },
        "id": "NFKmtnRveJXX",
        "outputId": "3488429b-8609-4eb1-8842-e0495dab5a2b"
      },
      "execution_count": 46,
      "outputs": [
        {
          "output_type": "stream",
          "name": "stdout",
          "text": [
            "Dataset shape: (284807, 31)\n",
            "\n",
            "Column names:\n",
            "['Time', 'V1', 'V2', 'V3', 'V4', 'V5', 'V6', 'V7', 'V8', 'V9', 'V10', 'V11', 'V12', 'V13', 'V14', 'V15', 'V16', 'V17', 'V18', 'V19', 'V20', 'V21', 'V22', 'V23', 'V24', 'V25', 'V26', 'V27', 'V28', 'Amount', 'Class']\n",
            "\n",
            "Missing values per column:\n",
            "No missing values found.\n"
          ]
        }
      ]
    },
    {
      "cell_type": "markdown",
      "source": [
        "#### Class Distribution and Imbalance"
      ],
      "metadata": {
        "id": "bYzXaQafj-ju"
      }
    },
    {
      "cell_type": "code",
      "source": [
        "# Display fraud vs normal class counts and their percentage\n",
        "class_counts = df['Class'].value_counts()\n",
        "total = class_counts.sum()\n",
        "fraud_pct = (class_counts[1] / total) * 100\n",
        "normal_pct = (class_counts[0] / total) * 100\n",
        "\n",
        "print(\"\\nClass Distribution:\")\n",
        "print(f\"Normal transactions: {class_counts[0]} ({normal_pct:.4f}%)\")\n",
        "print(f\"Fraudulent transactions: {class_counts[1]} ({fraud_pct:.4f}%)\")"
      ],
      "metadata": {
        "colab": {
          "base_uri": "https://localhost:8080/"
        },
        "id": "e42EHMWFek-q",
        "outputId": "979925c7-3213-4ecb-87b8-0e2192ba9f05"
      },
      "execution_count": 48,
      "outputs": [
        {
          "output_type": "stream",
          "name": "stdout",
          "text": [
            "\n",
            "Class Distribution:\n",
            "Normal transactions: 284315 (99.8273%)\n",
            "Fraudulent transactions: 492 (0.1727%)\n"
          ]
        }
      ]
    },
    {
      "cell_type": "code",
      "source": [
        "# Bar plot of transaction counts by class\n",
        "plt.figure(figsize=(6, 4))\n",
        "sns.barplot(x=['Normal', 'Fraud'], y=class_counts.values, hue=['Normal', 'Fraud'], palette='pastel', legend=False)\n",
        "plt.title('Transaction Class Distribution')\n",
        "plt.grid(axis='y', linestyle='--', alpha=0.5)\n",
        "plt.tight_layout()\n",
        "plt.show()"
      ],
      "metadata": {
        "colab": {
          "base_uri": "https://localhost:8080/",
          "height": 407
        },
        "id": "u7BDWKGkenuG",
        "outputId": "99aea5e1-7819-4865-f865-5a7a3e0c726f"
      },
      "execution_count": 41,
      "outputs": [
        {
          "output_type": "display_data",
          "data": {
            "text/plain": [
              "<Figure size 600x400 with 1 Axes>"
            ],
            "image/png": "[encoded data removed]"
          },
          "metadata": {}
        }
      ]
    },
    {
      "cell_type": "code",
      "source": [
        "# Pie chart showing class proportions\n",
        "plt.figure(figsize=(5, 5))\n",
        "plt.pie(class_counts, labels=['Normal', 'Fraud'], autopct='%1.4f%%', colors=['skyblue', 'salmon'], startangle=140)\n",
        "plt.title('Proportion of Fraud vs Normal Transactions')\n",
        "plt.axis('equal')\n",
        "plt.tight_layout()\n",
        "plt.show()"
      ],
      "metadata": {
        "colab": {
          "base_uri": "https://localhost:8080/",
          "height": 507
        },
        "id": "aDoLRgLceqIt",
        "outputId": "dffc2f4b-d403-4531-bc32-5461dd2212cb"
      },
      "execution_count": 40,
      "outputs": [
        {
          "output_type": "display_data",
          "data": {
            "text/plain": [
              "<Figure size 500x500 with 1 Axes>"
            ],
            "image/png": "[encoded data removed]"
          },
          "metadata": {}
        }
      ]
    },
    {
      "cell_type": "markdown",
      "source": [
        "#### Summary Statistics for Time, Amount, and PCA Features"
      ],
      "metadata": {
        "id": "8uMU0IS0klUS"
      }
    },
    {
      "cell_type": "code",
      "source": [
        "# Summary statistics for time and amount\n",
        "print(\"\\nSummary Statistics for Time and Amount:\")\n",
        "print(df[['Time', 'Amount']].describe())\n",
        "\n",
        "# Summary statistics for V1–V28 PCA features\n",
        "print(\"\\nPCA Features Summary (V1–V28):\")\n",
        "print(df[[f'V{i}' for i in range(1, 29)]].describe())"
      ],
      "metadata": {
        "colab": {
          "base_uri": "https://localhost:8080/"
        },
        "id": "GjZqoi6SgIaz",
        "outputId": "7b2d212a-00ff-414a-f008-35b449452da7"
      },
      "execution_count": 42,
      "outputs": [
        {
          "output_type": "stream",
          "name": "stdout",
          "text": [
            "\n",
            "Summary Statistics for Time and Amount:\n",
            "                Time         Amount\n",
            "count  284807.000000  284807.000000\n",
            "mean    94813.859575      88.349619\n",
            "std     47488.145955     250.120109\n",
            "min         0.000000       0.000000\n",
            "25%     54201.500000       5.600000\n",
            "50%     84692.000000      22.000000\n",
            "75%    139320.500000      77.165000\n",
            "max    172792.000000   25691.160000\n",
            "\n",
            "PCA Features Summary (V1–V28):\n",
            "                 V1            V2            V3            V4            V5  \\\n",
            "count  2.848070e+05  2.848070e+05  2.848070e+05  2.848070e+05  2.848070e+05   \n",
            "mean   1.168375e-15  3.416908e-16 -1.379537e-15  2.074095e-15  9.604066e-16   \n",
            "std    1.958696e+00  1.651309e+00  1.516255e+00  1.415869e+00  1.380247e+00   \n",
            "min   -5.640751e+01 -7.271573e+01 -4.832559e+01 -5.683171e+00 -1.137433e+02   \n",
            "25%   -9.203734e-01 -5.985499e-01 -8.903648e-01 -8.486401e-01 -6.915971e-01   \n",
            "50%    1.810880e-02  6.548556e-02  1.798463e-01 -1.984653e-02 -5.433583e-02   \n",
            "75%    1.315642e+00  8.037239e-01  1.027196e+00  7.433413e-01  6.119264e-01   \n",
            "max    2.454930e+00  2.205773e+01  9.382558e+00  1.687534e+01  3.480167e+01   \n",
            "\n",
            "                 V6            V7            V8            V9           V10  \\\n",
            "count  2.848070e+05  2.848070e+05  2.848070e+05  2.848070e+05  2.848070e+05   \n",
            "mean   1.487313e-15 -5.556467e-16  1.213481e-16 -2.406331e-15  2.239053e-15   \n",
            "std    1.332271e+00  1.237094e+00  1.194353e+00  1.098632e+00  1.088850e+00   \n",
            "min   -2.616051e+01 -4.355724e+01 -7.321672e+01 -1.343407e+01 -2.458826e+01   \n",
            "25%   -7.682956e-01 -5.540759e-01 -2.086297e-01 -6.430976e-01 -5.354257e-01   \n",
            "50%   -2.741871e-01  4.010308e-02  2.235804e-02 -5.142873e-02 -9.291738e-02   \n",
            "75%    3.985649e-01  5.704361e-01  3.273459e-01  5.971390e-01  4.539234e-01   \n",
            "max    7.330163e+01  1.205895e+02  2.000721e+01  1.559499e+01  2.374514e+01   \n",
            "\n",
            "       ...           V19           V20           V21           V22  \\\n",
            "count  ...  2.848070e+05  2.848070e+05  2.848070e+05  2.848070e+05   \n",
            "mean   ...  1.039917e-15  6.406204e-16  1.654067e-16 -3.568593e-16   \n",
            "std    ...  8.140405e-01  7.709250e-01  7.345240e-01  7.257016e-01   \n",
            "min    ... -7.213527e+00 -5.449772e+01 -3.483038e+01 -1.093314e+01   \n",
            "25%    ... -4.562989e-01 -2.117214e-01 -2.283949e-01 -5.423504e-01   \n",
            "50%    ...  3.734823e-03 -6.248109e-02 -2.945017e-02  6.781943e-03   \n",
            "75%    ...  4.589494e-01  1.330408e-01  1.863772e-01  5.285536e-01   \n",
            "max    ...  5.591971e+00  3.942090e+01  2.720284e+01  1.050309e+01   \n",
            "\n",
            "                V23           V24           V25           V26           V27  \\\n",
            "count  2.848070e+05  2.848070e+05  2.848070e+05  2.848070e+05  2.848070e+05   \n",
            "mean   2.578648e-16  4.473266e-15  5.340915e-16  1.683437e-15 -3.660091e-16   \n",
            "std    6.244603e-01  6.056471e-01  5.212781e-01  4.822270e-01  4.036325e-01   \n",
            "min   -4.480774e+01 -2.836627e+00 -1.029540e+01 -2.604551e+00 -2.256568e+01   \n",
            "25%   -1.618463e-01 -3.545861e-01 -3.171451e-01 -3.269839e-01 -7.083953e-02   \n",
            "50%   -1.119293e-02  4.097606e-02  1.659350e-02 -5.213911e-02  1.342146e-03   \n",
            "75%    1.476421e-01  4.395266e-01  3.507156e-01  2.409522e-01  9.104512e-02   \n",
            "max    2.252841e+01  4.584549e+00  7.519589e+00  3.517346e+00  3.161220e+01   \n",
            "\n",
            "                V28  \n",
            "count  2.848070e+05  \n",
            "mean  -1.227390e-16  \n",
            "std    3.300833e-01  \n",
            "min   -1.543008e+01  \n",
            "25%   -5.295979e-02  \n",
            "50%    1.124383e-02  \n",
            "75%    7.827995e-02  \n",
            "max    3.384781e+01  \n",
            "\n",
            "[8 rows x 28 columns]\n"
          ]
        }
      ]
    },
    {
      "cell_type": "markdown",
      "source": [
        "#### Correlation Between Features and Class"
      ],
      "metadata": {
        "id": "6gM29uFUkwT9"
      }
    },
    {
      "cell_type": "code",
      "source": [
        "# Correlation of Time and scaled Amount with the Class label\n",
        "df['Amount_scaled'] = StandardScaler().fit_transform(df[['Amount']])\n",
        "corr = df[['Amount_scaled', 'Time', 'Class']].corr()['Class']\n",
        "print(\"\\nCorrelation with Class:\")\n",
        "print(corr)"
      ],
      "metadata": {
        "id": "cEvK7peogc8p"
      },
      "execution_count": null,
      "outputs": []
    },
    {
      "cell_type": "markdown",
      "source": [
        "#### Distribution of Time and Amount by Class"
      ],
      "metadata": {
        "id": "LosKJ17ok2ly"
      }
    },
    {
      "cell_type": "code",
      "source": [
        "# KDE plots showing distributions of Time and Amount_scaled by class\n",
        "plt.figure(figsize=(12, 4))\n",
        "\n",
        "plt.subplot(1, 2, 1)\n",
        "sns.kdeplot(data=df[df['Class'] == 0], x='Amount_scaled', label='Normal', color='skyblue')\n",
        "sns.kdeplot(data=df[df['Class'] == 1], x='Amount_scaled', label='Fraud', color='salmon')\n",
        "plt.title('Scaled Amount Distribution by Class')\n",
        "plt.xlabel('Scaled Amount')\n",
        "plt.legend()\n",
        "\n",
        "plt.subplot(1, 2, 2)\n",
        "sns.kdeplot(data=df[df['Class'] == 0], x='Time', label='Normal', color='skyblue')\n",
        "sns.kdeplot(data=df[df['Class'] == 1], x='Time', label='Fraud', color='salmon')\n",
        "plt.title('Time Distribution by Class')\n",
        "plt.xlabel('Time (seconds)')\n",
        "plt.legend()\n",
        "\n",
        "plt.tight_layout()\n",
        "plt.savefig(\"intro_amount_time_dist.png\")\n",
        "plt.show()\n"
      ],
      "metadata": {
        "id": "IFMiC-KNgnA5"
      },
      "execution_count": null,
      "outputs": []
    },
    {
      "cell_type": "markdown",
      "source": [
        "#### Boxplot of Transaction Amounts by Class"
      ],
      "metadata": {
        "id": "u1a2H_FTk9ub"
      }
    },
    {
      "cell_type": "code",
      "source": [
        "# Boxplot comparing transaction amounts across classes (log scale)\n",
        "plt.figure(figsize=(6, 4))\n",
        "sns.boxplot(x='Class', y='Amount', data=df, palette='pastel', hue='Class', legend=False)\n",
        "plt.title('Amount Distribution by Class')\n",
        "plt.xlabel('Class (0=Normal, 1=Fraud)')\n",
        "plt.ylabel('Amount (Log Scale)')\n",
        "plt.yscale('log')\n",
        "plt.savefig(\"intro_amount_boxplot.png\")\n",
        "plt.show()"
      ],
      "metadata": {
        "id": "YUyudSQ_grq5"
      },
      "execution_count": null,
      "outputs": []
    },
    {
      "cell_type": "markdown",
      "source": [
        "#### Temporal Distribution of Fraudulent Transactions"
      ],
      "metadata": {
        "id": "wHFAxCEWlEZB"
      }
    },
    {
      "cell_type": "code",
      "source": [
        "# Histogram showing when fraud occurs over the dataset's time range\n",
        "plt.figure(figsize=(10, 4))\n",
        "fraud_times = df[df['Class'] == 1]['Time']\n",
        "plt.hist(fraud_times, bins=50, color='salmon', alpha=0.7)\n",
        "plt.title('Fraud Occurrences Over Time')\n",
        "plt.xlabel('Time (seconds)')\n",
        "plt.ylabel('Number of Fraud Transactions')\n",
        "plt.grid(axis='y', linestyle='--', alpha=0.5)\n",
        "plt.savefig(\"intro_fraud_time_series.png\")\n",
        "plt.show()"
      ],
      "metadata": {
        "id": "7woAu_99gwpK"
      },
      "execution_count": null,
      "outputs": []
    },
    {
      "cell_type": "markdown",
      "source": [
        "#### PCA Feature Scale Verification"
      ],
      "metadata": {
        "id": "GUOzjDFElKql"
      }
    },
    {
      "cell_type": "code",
      "source": [
        "# Check that PCA components are roughly standardised (mean≈0, std≈1)\n",
        "pca_stats = pd.DataFrame({\n",
        "    'Mean': df[[f'V{i}' for i in range(1, 29)]].mean(),\n",
        "    'Std': df[[f'V{i}' for i in range(1, 29)]].std()\n",
        "})\n",
        "print(\"\\nPCA Features Scale Verification (Means and Stds):\")\n",
        "print(pca_stats.describe())"
      ],
      "metadata": {
        "colab": {
          "base_uri": "https://localhost:8080/"
        },
        "id": "Wzqqt6UvZkJw",
        "outputId": "56fed91c-20bb-4075-b582-f53be2127e3c"
      },
      "execution_count": 49,
      "outputs": [
        {
          "output_type": "stream",
          "name": "stdout",
          "text": [
            "\n",
            "PCA Features Scale Verification (Means and Stds):\n",
            "               Mean        Std\n",
            "count  2.800000e+01  28.000000\n",
            "mean   7.627408e-16   0.976391\n",
            "std    1.541343e-15   0.386740\n",
            "min   -2.406331e-15   0.330083\n",
            "25%   -1.812691e-16   0.732318\n",
            "50%    7.298102e-16   0.936956\n",
            "75%    1.450115e-15   1.205038\n",
            "max    4.887456e-15   1.958696\n"
          ]
        }
      ]
    },
    {
      "cell_type": "markdown",
      "source": [
        "### Feature Selection and Dimensionality Reduction"
      ],
      "metadata": {
        "id": "Qd9yVr_MmAsY"
      }
    },
    {
      "cell_type": "code",
      "source": [
        "scaler = StandardScaler()\n",
        "df['Amount_scaled'] = scaler.fit_transform(df[['Amount']])\n",
        "print(\"Correlation with Class:\")\n",
        "print(df[['Amount_scaled', 'Time', 'Class']].corr()['Class'])"
      ],
      "metadata": {
        "colab": {
          "base_uri": "https://localhost:8080/"
        },
        "id": "BhZ7bOLi92zK",
        "outputId": "8aa2d7b6-5a27-4e5c-9da1-f8a8a7ceaed6"
      },
      "execution_count": null,
      "outputs": [
        {
          "output_type": "stream",
          "name": "stdout",
          "text": [
            "Correlation with Class:\n",
            "Amount_scaled    0.005632\n",
            "Time            -0.012323\n",
            "Class            1.000000\n",
            "Name: Class, dtype: float64\n"
          ]
        }
      ]
    },
    {
      "cell_type": "code",
      "source": [
        "plt.figure(figsize=(12, 4))\n",
        "plt.subplot(1, 2, 1)\n",
        "sns.histplot(data=df, x='Amount_scaled', hue='Class', bins=50, stat='density', common_norm=False)\n",
        "plt.title('Amount (Scaled) by Class')\n",
        "plt.subplot(1, 2, 2)\n",
        "sns.histplot(data=df, x='Time', hue='Class', bins=50, stat='density', common_norm=False)\n",
        "plt.title('Time by Class')\n",
        "plt.tight_layout()\n",
        "plt.show()"
      ],
      "metadata": {
        "colab": {
          "base_uri": "https://localhost:8080/",
          "height": 239
        },
        "id": "03GqU5ou9-ja",
        "outputId": "72312af7-bf6c-449b-f91c-1e34d7b612f4"
      },
      "execution_count": null,
      "outputs": [
        {
          "output_type": "display_data",
          "data": {
            "text/plain": [
              "<Figure size 1200x400 with 2 Axes>"
            ],
            "image/png": "[encoded data removed]"
          },
          "metadata": {}
        }
      ]
    },
    {
      "cell_type": "code",
      "source": [
        "# Step 2: Random Forest Feature Importance\n",
        "# Prepare data (exclude 'Class' and 'Amount_scaled' for now)\n",
        "X = df.drop(['Class', 'Amount_scaled'], axis=1)  # Keep 'Amount', 'Time' initially\n",
        "y = df['Class']\n",
        "\n",
        "# Fit Random Forest\n",
        "rf = RandomForestClassifier(n_estimators=100, criterion='entropy', random_state=42, n_jobs=-1)\n",
        "rf.fit(X, y)\n",
        "\n",
        "# Get feature importance\n",
        "feature_importance = pd.DataFrame({\n",
        "    'Feature': X.columns,\n",
        "    'Importance': rf.feature_importances_\n",
        "}).sort_values(by='Importance', ascending=False)\n",
        "\n",
        "# Plot feature importance\n",
        "plt.figure(figsize=(10, 6))\n",
        "sns.barplot(data=feature_importance, x='Importance', y='Feature')\n",
        "plt.title('Random Forest Feature Importance')\n",
        "plt.show()"
      ],
      "metadata": {
        "colab": {
          "base_uri": "https://localhost:8080/",
          "height": 439
        },
        "id": "9EUxhNyn-Gac",
        "outputId": "7d509d4a-03ba-4a6f-b3a8-535ed9541918"
      },
      "execution_count": null,
      "outputs": [
        {
          "output_type": "display_data",
          "data": {
            "text/plain": [
              "<Figure size 1000x600 with 1 Axes>"
            ],
            "image/png": "[encoded data removed]"
          },
          "metadata": {}
        }
      ]
    },
    {
      "cell_type": "code",
      "source": [
        "# Step 3: Test different importance thresholds\n",
        "thresholds = [0.01, 0.02, 0.03]\n",
        "for thresh in thresholds:\n",
        "    selected_features = feature_importance[feature_importance['Importance'] > thresh]['Feature'].tolist()\n",
        "    print(f\"Threshold {thresh}: {len(selected_features)} features - {selected_features}\")\n",
        "\n",
        "# Visualize importance distribution to assess threshold\n",
        "import matplotlib.pyplot as plt\n",
        "import seaborn as sns\n",
        "\n",
        "plt.figure(figsize=(10, 6))\n",
        "plt.plot(range(len(feature_importance)), feature_importance['Importance'], marker='o')\n",
        "plt.axhline(y=0.01, color='r', linestyle='--', label='Threshold 0.01')\n",
        "plt.axhline(y=0.02, color='g', linestyle='--', label='Threshold 0.02')\n",
        "plt.axhline(y=0.03, color='b', linestyle='--', label='Threshold 0.03')\n",
        "plt.xticks(range(len(feature_importance)), feature_importance['Feature'], rotation=90)\n",
        "plt.title('Feature Importance with Thresholds')\n",
        "plt.xlabel('Features')\n",
        "plt.ylabel('Importance')\n",
        "plt.legend()\n",
        "plt.tight_layout()\n",
        "plt.show()"
      ],
      "metadata": {
        "colab": {
          "base_uri": "https://localhost:8080/",
          "height": 493
        },
        "id": "uNMBs1_VAE-j",
        "outputId": "6a3b221b-368a-4763-cf3d-fef6feb6a92a"
      },
      "execution_count": null,
      "outputs": [
        {
          "output_type": "stream",
          "name": "stdout",
          "text": [
            "Threshold 0.01: 21 features - ['V14', 'V17', 'V12', 'V10', 'V16', 'V11', 'V4', 'V3', 'V9', 'V18', 'V7', 'V21', 'V2', 'V19', 'Amount', 'V26', 'V8', 'V27', 'V5', 'V6', 'V1']\n",
            "Threshold 0.02: 11 features - ['V14', 'V17', 'V12', 'V10', 'V16', 'V11', 'V4', 'V3', 'V9', 'V18', 'V7']\n",
            "Threshold 0.03: 8 features - ['V14', 'V17', 'V12', 'V10', 'V16', 'V11', 'V4', 'V3']\n"
          ]
        },
        {
          "output_type": "display_data",
          "data": {
            "text/plain": [
              "<Figure size 1000x600 with 1 Axes>"
            ],
            "image/png": "[encoded data removed]"
          },
          "metadata": {}
        }
      ]
    },
    {
      "cell_type": "code",
      "source": [
        "final_threshold = 0.02\n",
        "selected_features = feature_importance[feature_importance['Importance'] > final_threshold]['Feature'].tolist()\n",
        "reduced_df = df[selected_features + ['Class']].copy()  # Exclude Amount, Amount_scaled, Time\n",
        "print(\"Reduced dataset shape:\", reduced_df.shape)\n",
        "print(\"Selected features:\", selected_features)\n",
        "\n",
        "# Save reduced dataset\n",
        "reduced_df.to_csv(\"reduced_creditcard.csv\", index=False)"
      ],
      "metadata": {
        "colab": {
          "base_uri": "https://localhost:8080/"
        },
        "id": "XluEn8OxBb9T",
        "outputId": "1af77292-7b77-4f1e-a763-8d2c7291c6e0"
      },
      "execution_count": null,
      "outputs": [
        {
          "output_type": "stream",
          "name": "stdout",
          "text": [
            "Reduced dataset shape: (284807, 12)\n",
            "Selected features: ['V14', 'V17', 'V12', 'V10', 'V16', 'V11', 'V4', 'V3', 'V9', 'V18', 'V7']\n"
          ]
        }
      ]
    },
    {
      "cell_type": "code",
      "source": [
        "# Verify feature scales\n",
        "print(\"Feature means:\\n\", reduced_df.drop('Class', axis=1).mean())\n",
        "print(\"Feature stds:\\n\", reduced_df.drop('Class', axis=1).std())"
      ],
      "metadata": {
        "colab": {
          "base_uri": "https://localhost:8080/"
        },
        "id": "OgkMJcmUBqkP",
        "outputId": "be3ce57f-d43b-4661-d408-838a4050c8cc"
      },
      "execution_count": null,
      "outputs": [
        {
          "output_type": "stream",
          "name": "stdout",
          "text": [
            "Feature means:\n",
            " V14    1.207294e-15\n",
            "V17   -3.772171e-16\n",
            "V12   -1.247012e-15\n",
            "V10    2.239053e-15\n",
            "V16    1.437716e-15\n",
            "V11    1.673327e-15\n",
            "V4     2.074095e-15\n",
            "V3    -1.379537e-15\n",
            "V9    -2.406331e-15\n",
            "V18    9.564149e-16\n",
            "V7    -5.556467e-16\n",
            "dtype: float64\n",
            "Feature stds:\n",
            " V14    0.958596\n",
            "V17    0.849337\n",
            "V12    0.999201\n",
            "V10    1.088850\n",
            "V16    0.876253\n",
            "V11    1.020713\n",
            "V4     1.415869\n",
            "V3     1.516255\n",
            "V9     1.098632\n",
            "V18    0.838176\n",
            "V7     1.237094\n",
            "dtype: float64\n"
          ]
        }
      ]
    },
    {
      "cell_type": "code",
      "source": [
        "# Load reduced dataset (unscaled)\n",
        "reduced_df = pd.read_csv(\"reduced_creditcard.csv\")\n",
        "\n",
        "# Split data (60% normal, 20% normal + 50% fraud for CV, 20% normal + 50% fraud for test)\n",
        "normal = reduced_df[reduced_df['Class'] == 0].copy()\n",
        "fraud = reduced_df[reduced_df['Class'] == 1].copy()\n",
        "train_fraud = normal.sample(frac=0.6, random_state=42).copy()\n",
        "remaining_normal = normal.drop(train_fraud.index)\n",
        "train_cv = pd.concat([remaining_normal.sample(frac=0.5, random_state=42), fraud.sample(frac=0.5, random_state=42)]).copy()\n",
        "# train_test = pd.concat([remaining_normal.drop(train_cv[remaining_normal.index].index), fraud.drop(train_cv[fraud.index].index)]).copy()\n",
        "# Fix: get only the row indices to drop\n",
        "# train_test = pd.concat([\n",
        "#     remaining_normal.drop(train_cv.index),\n",
        "#     fraud.drop(train_cv.index)\n",
        "# ]).copy()\n",
        "train_test = pd.concat([\n",
        "    remaining_normal.drop(train_cv.index.intersection(remaining_normal.index)),\n",
        "    fraud.drop(train_cv.index.intersection(fraud.index))\n",
        "]).copy()\n",
        "\n",
        "\n",
        "\n",
        "# Separate features and labels\n",
        "train_fraud_X = train_fraud.drop('Class', axis=1).copy()\n",
        "train_cv_X = train_cv.drop('Class', axis=1).copy()\n",
        "train_cv_y = train_cv['Class'].copy()\n",
        "train_test_X = train_test.drop('Class', axis=1).copy()\n",
        "train_test_y = train_test['Class'].copy()\n",
        "\n",
        "# Gaussian Distribution\n",
        "def multivariate_gaussian(X, mu, sigma):\n",
        "    k = len(mu)\n",
        "    sigma_inv = np.linalg.inv(sigma)\n",
        "    det_sigma = np.linalg.det(sigma)\n",
        "    const = 1 / ((2 * np.pi) ** (k / 2) * det_sigma ** 0.5)\n",
        "    diff = X - mu\n",
        "    exp_term = np.sum(np.dot(diff, sigma_inv) * diff, axis=1)\n",
        "    return const * np.exp(-0.5 * exp_term)\n",
        "\n",
        "mu = train_fraud_X.mean().values\n",
        "sigma = np.cov(train_fraud_X.T)\n",
        "p_cv = multivariate_gaussian(train_cv_X.values, mu, sigma)\n",
        "p_test = multivariate_gaussian(train_test_X.values, mu, sigma)\n",
        "\n",
        "# Test epsilon range\n",
        "epsilons = np.logspace(-100, -20, num=50)\n",
        "best_f1 = 0\n",
        "best_epsilon = 0\n",
        "for epsilon in epsilons:\n",
        "    predictions = (p_cv < epsilon).astype(int)\n",
        "    f1 = f1_score(train_cv_y, predictions)\n",
        "    if f1 > best_f1:\n",
        "        best_f1 = f1\n",
        "        best_epsilon = epsilon\n",
        "        best_precision = precision_score(train_cv_y, predictions)\n",
        "        best_recall = recall_score(train_cv_y, predictions)\n",
        "\n",
        "print(f\"Best epsilon: {best_epsilon}\")\n",
        "print(f\"Cross-validation - F1: {best_f1}, Precision: {best_precision}, Recall: {best_recall}\")\n",
        "\n",
        "# Test set\n",
        "test_predictions = (p_test < best_epsilon).astype(int)\n",
        "test_f1 = f1_score(train_test_y, test_predictions)\n",
        "test_precision = precision_score(train_test_y, test_predictions)\n",
        "test_recall = recall_score(train_test_y, test_predictions)\n",
        "print(f\"Test - F1: {test_f1}, Precision: {test_precision}, Recall: {test_recall}\")"
      ],
      "metadata": {
        "colab": {
          "base_uri": "https://localhost:8080/"
        },
        "id": "BaWOnVlNElzA",
        "outputId": "db02bca9-598d-43fe-8617-566d2bd14e2f"
      },
      "execution_count": null,
      "outputs": [
        {
          "output_type": "stream",
          "name": "stdout",
          "text": [
            "Best epsilon: 1.4563484775012623e-92\n",
            "Cross-validation - F1: 0.8459869848156182, Precision: 0.9069767441860465, Recall: 0.7926829268292683\n",
            "Test - F1: 0.8, Precision: 0.8708133971291866, Recall: 0.7398373983739838\n"
          ]
        }
      ]
    },
    {
      "cell_type": "code",
      "source": [
        "# Use same train_fraud_X, train_cv_X, train_test_X from Gaussian\n",
        "iso_forest = IsolationForest(contamination=0.0017, random_state=42, n_jobs=-1)\n",
        "iso_forest.fit(train_fraud_X)\n",
        "cv_predictions = iso_forest.predict(train_cv_X)\n",
        "cv_predictions = [1 if x == -1 else 0 for x in cv_predictions]  # -1 = anomaly, 1 = fraud\n",
        "test_predictions = iso_forest.predict(train_test_X)\n",
        "test_predictions = [1 if x == -1 else 0 for x in test_predictions]\n",
        "\n",
        "# Evaluate\n",
        "print(\"Isolation Forest Cross-validation:\")\n",
        "print(f\"F1: {f1_score(train_cv_y, cv_predictions)}\")\n",
        "print(f\"Precision: {precision_score(train_cv_y, cv_predictions)}\")\n",
        "print(f\"Recall: {recall_score(train_cv_y, cv_predictions)}\")\n",
        "print(\"Isolation Forest Test:\")\n",
        "print(f\"F1: {f1_score(train_test_y, test_predictions)}\")\n",
        "print(f\"Precision: {precision_score(train_test_y, test_predictions)}\")\n",
        "print(f\"Recall: {recall_score(train_test_y, test_predictions)}\")"
      ],
      "metadata": {
        "colab": {
          "base_uri": "https://localhost:8080/"
        },
        "id": "LWDm0bjtNG5d",
        "outputId": "7635d663-16e1-4403-c08b-b4186bd3e934"
      },
      "execution_count": null,
      "outputs": [
        {
          "output_type": "stream",
          "name": "stdout",
          "text": [
            "Isolation Forest Cross-validation:\n",
            "F1: 0.6690909090909091\n",
            "Precision: 0.6052631578947368\n",
            "Recall: 0.7479674796747967\n",
            "Isolation Forest Test:\n",
            "F1: 0.6507352941176471\n",
            "Precision: 0.5939597315436241\n",
            "Recall: 0.7195121951219512\n"
          ]
        }
      ]
    },
    {
      "cell_type": "code",
      "source": [
        "# Step 1: Fit Isolation Forest (you can leave contamination at default since we won't use its threshold)\n",
        "iso_forest = IsolationForest(n_estimators=100, random_state=42, n_jobs=-1)\n",
        "iso_forest.fit(train_fraud_X)\n",
        "\n",
        "# Step 2: Get raw anomaly scores for CV and Test\n",
        "cv_scores = iso_forest.score_samples(train_cv_X)  # Higher = more normal\n",
        "test_scores = iso_forest.score_samples(train_test_X)\n",
        "\n",
        "# Step 3: Try different percentiles for threshold tuning\n",
        "print(\"Isolation Forest Cross-validation (percentile tuning):\")\n",
        "best_f1 = 0\n",
        "best_percentile = None\n",
        "\n",
        "for p in [0.1, 0.5, 1, 2, 5]:  # Try more if needed\n",
        "    threshold = np.percentile(cv_scores, p)\n",
        "    cv_preds = (cv_scores < threshold).astype(int)\n",
        "\n",
        "    f1 = f1_score(train_cv_y, cv_preds)\n",
        "    precision = precision_score(train_cv_y, cv_preds)\n",
        "    recall = recall_score(train_cv_y, cv_preds)\n",
        "\n",
        "    print(f\"Threshold = bottom {p}% → F1: {f1:.4f}, Precision: {precision:.4f}, Recall: {recall:.4f}\")\n",
        "\n",
        "    if f1 > best_f1:\n",
        "        best_f1 = f1\n",
        "        best_percentile = p\n",
        "        best_threshold = threshold\n",
        "\n",
        "# Step 4: Apply best threshold to test set\n",
        "print(\"\\nIsolation Forest Test (using best threshold from CV):\")\n",
        "test_preds = (test_scores < best_threshold).astype(int)\n",
        "f1 = f1_score(train_test_y, test_preds)\n",
        "precision = precision_score(train_test_y, test_preds)\n",
        "recall = recall_score(train_test_y, test_preds)\n",
        "\n",
        "print(f\"Best threshold = bottom {best_percentile}%\")\n",
        "print(f\"F1: {f1:.4f}, Precision: {precision:.4f}, Recall: {recall:.4f}\")\n"
      ],
      "metadata": {
        "colab": {
          "base_uri": "https://localhost:8080/"
        },
        "id": "1oIoSy4aOZp6",
        "outputId": "5aa3bf7b-9e46-40eb-ec47-0244c84138ea"
      },
      "execution_count": null,
      "outputs": [
        {
          "output_type": "stream",
          "name": "stdout",
          "text": [
            "Isolation Forest Cross-validation (percentile tuning):\n",
            "Threshold = bottom 0.1% → F1: 0.3487, Precision: 0.9138, Recall: 0.2154\n",
            "Threshold = bottom 0.5% → F1: 0.6729, Precision: 0.6259, Recall: 0.7276\n",
            "Threshold = bottom 1% → F1: 0.4988, Precision: 0.3566, Recall: 0.8293\n",
            "Threshold = bottom 2% → F1: 0.3067, Precision: 0.1864, Recall: 0.8659\n",
            "Threshold = bottom 5% → F1: 0.1418, Precision: 0.0770, Recall: 0.8943\n",
            "\n",
            "Isolation Forest Test (using best threshold from CV):\n",
            "Best threshold = bottom 0.5%\n",
            "F1: 0.6564, Precision: 0.6218, Recall: 0.6951\n"
          ]
        }
      ]
    },
    {
      "cell_type": "code",
      "source": [
        "# Grid for hyperparameter tuning\n",
        "n_estimators_list = [100, 200]\n",
        "max_samples_list = [256, 512, len(train_fraud_X)]  # or try 'auto'\n",
        "max_features_list = [1.0, 0.8]\n",
        "random_states = [42, 123]\n",
        "percentiles = [0.1, 0.5, 1, 2, 5]\n",
        "\n",
        "# Tracking best result\n",
        "best_config = None\n",
        "best_f1 = 0\n",
        "results = []\n",
        "\n",
        "print(\"Isolation Forest Full Tuning Grid Search:\\n\")\n",
        "\n",
        "# Step through all combinations\n",
        "for n_est, m_samp, m_feat, r_seed in product(n_estimators_list, max_samples_list, max_features_list, random_states):\n",
        "    # Train Isolation Forest\n",
        "    iso = IsolationForest(\n",
        "        n_estimators=n_est,\n",
        "        max_samples=m_samp,\n",
        "        max_features=m_feat,\n",
        "        random_state=r_seed,\n",
        "        n_jobs=-1\n",
        "    )\n",
        "    iso.fit(train_fraud_X)\n",
        "\n",
        "    # Score samples\n",
        "    cv_scores = iso.score_samples(train_cv_X)\n",
        "    test_scores = iso.score_samples(train_test_X)\n",
        "\n",
        "    for p in percentiles:\n",
        "        threshold = np.percentile(cv_scores, p)\n",
        "        cv_preds = (cv_scores < threshold).astype(int)\n",
        "\n",
        "        f1 = f1_score(train_cv_y, cv_preds)\n",
        "        precision = precision_score(train_cv_y, cv_preds)\n",
        "        recall = recall_score(train_cv_y, cv_preds)\n",
        "\n",
        "        results.append({\n",
        "            'n_estimators': n_est,\n",
        "            'max_samples': m_samp,\n",
        "            'max_features': m_feat,\n",
        "            'random_state': r_seed,\n",
        "            'percentile': p,\n",
        "            'cv_f1': f1,\n",
        "            'cv_precision': precision,\n",
        "            'cv_recall': recall\n",
        "        })\n",
        "\n",
        "        if f1 > best_f1:\n",
        "            best_f1 = f1\n",
        "            best_config = {\n",
        "                'n_estimators': n_est,\n",
        "                'max_samples': m_samp,\n",
        "                'max_features': m_feat,\n",
        "                'random_state': r_seed,\n",
        "                'percentile': p,\n",
        "                'threshold': threshold\n",
        "            }\n",
        "\n",
        "        print(f\"n={n_est}, ms={m_samp}, mf={m_feat}, seed={r_seed}, p={p}% → F1: {f1:.4f}, Precision: {precision:.4f}, Recall: {recall:.4f}\")\n",
        "\n",
        "# Final test evaluation with best config\n",
        "print(\"\\nBest Configuration:\")\n",
        "print(best_config)\n",
        "\n",
        "# Re-train with best config and evaluate on test set\n",
        "iso_best = IsolationForest(\n",
        "    n_estimators=best_config['n_estimators'],\n",
        "    max_samples=best_config['max_samples'],\n",
        "    max_features=best_config['max_features'],\n",
        "    random_state=best_config['random_state'],\n",
        "    n_jobs=-1\n",
        ")\n",
        "iso_best.fit(train_fraud_X)\n",
        "test_scores = iso_best.score_samples(train_test_X)\n",
        "test_preds = (test_scores < best_config['threshold']).astype(int)\n",
        "\n",
        "f1 = f1_score(train_test_y, test_preds)\n",
        "precision = precision_score(train_test_y, test_preds)\n",
        "recall = recall_score(train_test_y, test_preds)\n",
        "\n",
        "print(\"\\nIsolation Forest Test Set Results:\")\n",
        "print(f\"F1: {f1:.4f}, Precision: {precision:.4f}, Recall: {recall:.4f}\")\n"
      ],
      "metadata": {
        "colab": {
          "base_uri": "https://localhost:8080/"
        },
        "id": "tVqx91ZcPKxE",
        "outputId": "6665075b-ee45-46d1-af41-c1df8f9c037a"
      },
      "execution_count": null,
      "outputs": [
        {
          "output_type": "stream",
          "name": "stdout",
          "text": [
            "Isolation Forest Full Tuning Grid Search:\n",
            "\n",
            "n=100, ms=256, mf=1.0, seed=42, p=0.1% → F1: 0.3487, Precision: 0.9138, Recall: 0.2154\n",
            "n=100, ms=256, mf=1.0, seed=42, p=0.5% → F1: 0.6729, Precision: 0.6259, Recall: 0.7276\n",
            "n=100, ms=256, mf=1.0, seed=42, p=1% → F1: 0.4988, Precision: 0.3566, Recall: 0.8293\n",
            "n=100, ms=256, mf=1.0, seed=42, p=2% → F1: 0.3067, Precision: 0.1864, Recall: 0.8659\n",
            "n=100, ms=256, mf=1.0, seed=42, p=5% → F1: 0.1418, Precision: 0.0770, Recall: 0.8943\n",
            "n=100, ms=256, mf=1.0, seed=123, p=0.1% → F1: 0.3421, Precision: 0.8966, Recall: 0.2114\n",
            "n=100, ms=256, mf=1.0, seed=123, p=0.5% → F1: 0.6504, Precision: 0.6049, Recall: 0.7033\n",
            "n=100, ms=256, mf=1.0, seed=123, p=1% → F1: 0.4939, Precision: 0.3531, Recall: 0.8211\n",
            "n=100, ms=256, mf=1.0, seed=123, p=2% → F1: 0.3067, Precision: 0.1864, Recall: 0.8659\n",
            "n=100, ms=256, mf=1.0, seed=123, p=5% → F1: 0.1418, Precision: 0.0770, Recall: 0.8943\n",
            "n=100, ms=256, mf=0.8, seed=42, p=0.1% → F1: 0.3355, Precision: 0.8793, Recall: 0.2073\n",
            "n=100, ms=256, mf=0.8, seed=42, p=0.5% → F1: 0.6241, Precision: 0.5804, Recall: 0.6748\n",
            "n=100, ms=256, mf=0.8, seed=42, p=1% → F1: 0.4914, Precision: 0.3514, Recall: 0.8171\n",
            "n=100, ms=256, mf=0.8, seed=42, p=2% → F1: 0.3009, Precision: 0.1829, Recall: 0.8496\n",
            "n=100, ms=256, mf=0.8, seed=42, p=5% → F1: 0.1425, Precision: 0.0774, Recall: 0.8984\n",
            "n=100, ms=256, mf=0.8, seed=123, p=0.1% → F1: 0.3211, Precision: 0.9057, Recall: 0.1951\n",
            "n=100, ms=256, mf=0.8, seed=123, p=0.5% → F1: 0.6729, Precision: 0.6259, Recall: 0.7276\n",
            "n=100, ms=256, mf=0.8, seed=123, p=1% → F1: 0.4939, Precision: 0.3531, Recall: 0.8211\n",
            "n=100, ms=256, mf=0.8, seed=123, p=2% → F1: 0.3024, Precision: 0.1837, Recall: 0.8537\n",
            "n=100, ms=256, mf=0.8, seed=123, p=5% → F1: 0.1412, Precision: 0.0767, Recall: 0.8902\n",
            "n=100, ms=512, mf=1.0, seed=42, p=0.1% → F1: 0.3211, Precision: 0.9057, Recall: 0.1951\n",
            "n=100, ms=512, mf=1.0, seed=42, p=0.5% → F1: 0.6203, Precision: 0.5769, Recall: 0.6707\n",
            "n=100, ms=512, mf=1.0, seed=42, p=1% → F1: 0.4866, Precision: 0.3479, Recall: 0.8089\n",
            "n=100, ms=512, mf=1.0, seed=42, p=2% → F1: 0.2995, Precision: 0.1820, Recall: 0.8455\n",
            "n=100, ms=512, mf=1.0, seed=42, p=5% → F1: 0.1418, Precision: 0.0770, Recall: 0.8943\n",
            "n=100, ms=512, mf=1.0, seed=123, p=0.1% → F1: 0.3487, Precision: 0.9138, Recall: 0.2154\n",
            "n=100, ms=512, mf=1.0, seed=123, p=0.5% → F1: 0.6466, Precision: 0.6014, Recall: 0.6992\n",
            "n=100, ms=512, mf=1.0, seed=123, p=1% → F1: 0.4914, Precision: 0.3514, Recall: 0.8171\n",
            "n=100, ms=512, mf=1.0, seed=123, p=2% → F1: 0.3053, Precision: 0.1855, Recall: 0.8618\n",
            "n=100, ms=512, mf=1.0, seed=123, p=5% → F1: 0.1418, Precision: 0.0770, Recall: 0.8943\n",
            "n=100, ms=512, mf=0.8, seed=42, p=0.1% → F1: 0.3300, Precision: 0.8772, Recall: 0.2033\n",
            "n=100, ms=512, mf=0.8, seed=42, p=0.5% → F1: 0.6165, Precision: 0.5734, Recall: 0.6667\n",
            "n=100, ms=512, mf=0.8, seed=42, p=1% → F1: 0.4914, Precision: 0.3514, Recall: 0.8171\n",
            "n=100, ms=512, mf=0.8, seed=42, p=2% → F1: 0.3024, Precision: 0.1837, Recall: 0.8537\n",
            "n=100, ms=512, mf=0.8, seed=42, p=5% → F1: 0.1418, Precision: 0.0770, Recall: 0.8943\n",
            "n=100, ms=512, mf=0.8, seed=123, p=0.1% → F1: 0.3421, Precision: 0.8966, Recall: 0.2114\n",
            "n=100, ms=512, mf=0.8, seed=123, p=0.5% → F1: 0.6316, Precision: 0.5874, Recall: 0.6829\n",
            "n=100, ms=512, mf=0.8, seed=123, p=1% → F1: 0.4914, Precision: 0.3514, Recall: 0.8171\n",
            "n=100, ms=512, mf=0.8, seed=123, p=2% → F1: 0.3024, Precision: 0.1837, Recall: 0.8537\n",
            "n=100, ms=512, mf=0.8, seed=123, p=5% → F1: 0.1418, Precision: 0.0770, Recall: 0.8943\n",
            "n=100, ms=170589, mf=1.0, seed=42, p=0.1% → F1: 0.3421, Precision: 0.8966, Recall: 0.2114\n",
            "n=100, ms=170589, mf=1.0, seed=42, p=0.5% → F1: 0.7481, Precision: 0.6958, Recall: 0.8089\n",
            "n=100, ms=170589, mf=1.0, seed=42, p=1% → F1: 0.4963, Precision: 0.3549, Recall: 0.8252\n",
            "n=100, ms=170589, mf=1.0, seed=42, p=2% → F1: 0.3024, Precision: 0.1837, Recall: 0.8537\n",
            "n=100, ms=170589, mf=1.0, seed=42, p=5% → F1: 0.1418, Precision: 0.0770, Recall: 0.8943\n",
            "n=100, ms=170589, mf=1.0, seed=123, p=0.1% → F1: 0.3553, Precision: 0.9310, Recall: 0.2195\n",
            "n=100, ms=170589, mf=1.0, seed=123, p=0.5% → F1: 0.7406, Precision: 0.6888, Recall: 0.8008\n",
            "n=100, ms=170589, mf=1.0, seed=123, p=1% → F1: 0.4963, Precision: 0.3549, Recall: 0.8252\n",
            "n=100, ms=170589, mf=1.0, seed=123, p=2% → F1: 0.3067, Precision: 0.1864, Recall: 0.8659\n",
            "n=100, ms=170589, mf=1.0, seed=123, p=5% → F1: 0.1412, Precision: 0.0767, Recall: 0.8902\n",
            "n=100, ms=170589, mf=0.8, seed=42, p=0.1% → F1: 0.3366, Precision: 0.8947, Recall: 0.2073\n",
            "n=100, ms=170589, mf=0.8, seed=42, p=0.5% → F1: 0.7406, Precision: 0.6888, Recall: 0.8008\n",
            "n=100, ms=170589, mf=0.8, seed=42, p=1% → F1: 0.4963, Precision: 0.3549, Recall: 0.8252\n",
            "n=100, ms=170589, mf=0.8, seed=42, p=2% → F1: 0.3038, Precision: 0.1846, Recall: 0.8577\n",
            "n=100, ms=170589, mf=0.8, seed=42, p=5% → F1: 0.1412, Precision: 0.0767, Recall: 0.8902\n",
            "n=100, ms=170589, mf=0.8, seed=123, p=0.1% → F1: 0.3366, Precision: 0.8947, Recall: 0.2073\n",
            "n=100, ms=170589, mf=0.8, seed=123, p=0.5% → F1: 0.7519, Precision: 0.6993, Recall: 0.8130\n",
            "n=100, ms=170589, mf=0.8, seed=123, p=1% → F1: 0.4963, Precision: 0.3549, Recall: 0.8252\n",
            "n=100, ms=170589, mf=0.8, seed=123, p=2% → F1: 0.3038, Precision: 0.1846, Recall: 0.8577\n",
            "n=100, ms=170589, mf=0.8, seed=123, p=5% → F1: 0.1412, Precision: 0.0767, Recall: 0.8902\n",
            "n=200, ms=256, mf=1.0, seed=42, p=0.1% → F1: 0.3421, Precision: 0.8966, Recall: 0.2114\n",
            "n=200, ms=256, mf=1.0, seed=42, p=0.5% → F1: 0.6290, Precision: 0.5860, Recall: 0.6789\n",
            "n=200, ms=256, mf=1.0, seed=42, p=1% → F1: 0.4890, Precision: 0.3497, Recall: 0.8130\n",
            "n=200, ms=256, mf=1.0, seed=42, p=2% → F1: 0.3053, Precision: 0.1855, Recall: 0.8618\n",
            "n=200, ms=256, mf=1.0, seed=42, p=5% → F1: 0.1418, Precision: 0.0770, Recall: 0.8943\n",
            "n=200, ms=256, mf=1.0, seed=123, p=0.1% → F1: 0.3421, Precision: 0.8966, Recall: 0.2114\n",
            "n=200, ms=256, mf=1.0, seed=123, p=0.5% → F1: 0.6617, Precision: 0.6154, Recall: 0.7154\n",
            "n=200, ms=256, mf=1.0, seed=123, p=1% → F1: 0.4939, Precision: 0.3531, Recall: 0.8211\n",
            "n=200, ms=256, mf=1.0, seed=123, p=2% → F1: 0.3067, Precision: 0.1864, Recall: 0.8659\n",
            "n=200, ms=256, mf=1.0, seed=123, p=5% → F1: 0.1418, Precision: 0.0770, Recall: 0.8943\n",
            "n=200, ms=256, mf=0.8, seed=42, p=0.1% → F1: 0.3355, Precision: 0.8793, Recall: 0.2073\n",
            "n=200, ms=256, mf=0.8, seed=42, p=0.5% → F1: 0.6429, Precision: 0.5979, Recall: 0.6951\n",
            "n=200, ms=256, mf=0.8, seed=42, p=1% → F1: 0.4939, Precision: 0.3531, Recall: 0.8211\n",
            "n=200, ms=256, mf=0.8, seed=42, p=2% → F1: 0.3009, Precision: 0.1829, Recall: 0.8496\n",
            "n=200, ms=256, mf=0.8, seed=42, p=5% → F1: 0.1418, Precision: 0.0770, Recall: 0.8943\n",
            "n=200, ms=256, mf=0.8, seed=123, p=0.1% → F1: 0.3355, Precision: 0.8793, Recall: 0.2073\n",
            "n=200, ms=256, mf=0.8, seed=123, p=0.5% → F1: 0.6992, Precision: 0.6503, Recall: 0.7561\n",
            "n=200, ms=256, mf=0.8, seed=123, p=1% → F1: 0.4939, Precision: 0.3531, Recall: 0.8211\n",
            "n=200, ms=256, mf=0.8, seed=123, p=2% → F1: 0.3009, Precision: 0.1829, Recall: 0.8496\n",
            "n=200, ms=256, mf=0.8, seed=123, p=5% → F1: 0.1418, Precision: 0.0770, Recall: 0.8943\n",
            "n=200, ms=512, mf=1.0, seed=42, p=0.1% → F1: 0.3300, Precision: 0.8772, Recall: 0.2033\n",
            "n=200, ms=512, mf=1.0, seed=42, p=0.5% → F1: 0.6504, Precision: 0.6049, Recall: 0.7033\n",
            "n=200, ms=512, mf=1.0, seed=42, p=1% → F1: 0.4914, Precision: 0.3514, Recall: 0.8171\n",
            "n=200, ms=512, mf=1.0, seed=42, p=2% → F1: 0.3028, Precision: 0.1840, Recall: 0.8537\n",
            "n=200, ms=512, mf=1.0, seed=42, p=5% → F1: 0.1412, Precision: 0.0767, Recall: 0.8902\n",
            "n=200, ms=512, mf=1.0, seed=123, p=0.1% → F1: 0.3432, Precision: 0.9123, Recall: 0.2114\n",
            "n=200, ms=512, mf=1.0, seed=123, p=0.5% → F1: 0.6654, Precision: 0.6189, Recall: 0.7195\n",
            "n=200, ms=512, mf=1.0, seed=123, p=1% → F1: 0.4963, Precision: 0.3549, Recall: 0.8252\n",
            "n=200, ms=512, mf=1.0, seed=123, p=2% → F1: 0.3067, Precision: 0.1864, Recall: 0.8659\n",
            "n=200, ms=512, mf=1.0, seed=123, p=5% → F1: 0.1418, Precision: 0.0770, Recall: 0.8943\n",
            "n=200, ms=512, mf=0.8, seed=42, p=0.1% → F1: 0.3355, Precision: 0.8793, Recall: 0.2073\n",
            "n=200, ms=512, mf=0.8, seed=42, p=0.5% → F1: 0.6466, Precision: 0.6014, Recall: 0.6992\n",
            "n=200, ms=512, mf=0.8, seed=42, p=1% → F1: 0.4914, Precision: 0.3514, Recall: 0.8171\n",
            "n=200, ms=512, mf=0.8, seed=42, p=2% → F1: 0.3038, Precision: 0.1846, Recall: 0.8577\n",
            "n=200, ms=512, mf=0.8, seed=42, p=5% → F1: 0.1412, Precision: 0.0767, Recall: 0.8902\n",
            "n=200, ms=512, mf=0.8, seed=123, p=0.1% → F1: 0.3311, Precision: 0.8929, Recall: 0.2033\n",
            "n=200, ms=512, mf=0.8, seed=123, p=0.5% → F1: 0.6466, Precision: 0.6014, Recall: 0.6992\n",
            "n=200, ms=512, mf=0.8, seed=123, p=1% → F1: 0.4914, Precision: 0.3514, Recall: 0.8171\n",
            "n=200, ms=512, mf=0.8, seed=123, p=2% → F1: 0.2981, Precision: 0.1811, Recall: 0.8415\n",
            "n=200, ms=512, mf=0.8, seed=123, p=5% → F1: 0.1418, Precision: 0.0770, Recall: 0.8943\n",
            "n=200, ms=170589, mf=1.0, seed=42, p=0.1% → F1: 0.3421, Precision: 0.8966, Recall: 0.2114\n",
            "n=200, ms=170589, mf=1.0, seed=42, p=0.5% → F1: 0.7481, Precision: 0.6958, Recall: 0.8089\n",
            "n=200, ms=170589, mf=1.0, seed=42, p=1% → F1: 0.4963, Precision: 0.3549, Recall: 0.8252\n",
            "n=200, ms=170589, mf=1.0, seed=42, p=2% → F1: 0.3024, Precision: 0.1837, Recall: 0.8537\n",
            "n=200, ms=170589, mf=1.0, seed=42, p=5% → F1: 0.1412, Precision: 0.0767, Recall: 0.8902\n",
            "n=200, ms=170589, mf=1.0, seed=123, p=0.1% → F1: 0.3487, Precision: 0.9138, Recall: 0.2154\n",
            "n=200, ms=170589, mf=1.0, seed=123, p=0.5% → F1: 0.7406, Precision: 0.6888, Recall: 0.8008\n",
            "n=200, ms=170589, mf=1.0, seed=123, p=1% → F1: 0.4963, Precision: 0.3549, Recall: 0.8252\n",
            "n=200, ms=170589, mf=1.0, seed=123, p=2% → F1: 0.3038, Precision: 0.1846, Recall: 0.8577\n",
            "n=200, ms=170589, mf=1.0, seed=123, p=5% → F1: 0.1406, Precision: 0.0763, Recall: 0.8862\n",
            "n=200, ms=170589, mf=0.8, seed=42, p=0.1% → F1: 0.3355, Precision: 0.8793, Recall: 0.2073\n",
            "n=200, ms=170589, mf=0.8, seed=42, p=0.5% → F1: 0.7444, Precision: 0.6923, Recall: 0.8049\n",
            "n=200, ms=170589, mf=0.8, seed=42, p=1% → F1: 0.4963, Precision: 0.3549, Recall: 0.8252\n",
            "n=200, ms=170589, mf=0.8, seed=42, p=2% → F1: 0.3038, Precision: 0.1846, Recall: 0.8577\n",
            "n=200, ms=170589, mf=0.8, seed=42, p=5% → F1: 0.1412, Precision: 0.0767, Recall: 0.8902\n",
            "n=200, ms=170589, mf=0.8, seed=123, p=0.1% → F1: 0.3421, Precision: 0.8966, Recall: 0.2114\n",
            "n=200, ms=170589, mf=0.8, seed=123, p=0.5% → F1: 0.7481, Precision: 0.6958, Recall: 0.8089\n",
            "n=200, ms=170589, mf=0.8, seed=123, p=1% → F1: 0.4963, Precision: 0.3549, Recall: 0.8252\n",
            "n=200, ms=170589, mf=0.8, seed=123, p=2% → F1: 0.3009, Precision: 0.1829, Recall: 0.8496\n",
            "n=200, ms=170589, mf=0.8, seed=123, p=5% → F1: 0.1418, Precision: 0.0770, Recall: 0.8943\n",
            "\n",
            "Best Configuration:\n",
            "{'n_estimators': 100, 'max_samples': 170589, 'max_features': 0.8, 'random_state': 123, 'percentile': 0.5, 'threshold': np.float64(-0.5737302535261993)}\n",
            "\n",
            "Isolation Forest Test Set Results:\n",
            "F1: 0.7308, Precision: 0.6934, Recall: 0.7724\n"
          ]
        }
      ]
    },
    {
      "cell_type": "code",
      "source": [
        "import numpy as np\n",
        "from scipy.stats import norm\n",
        "from sklearn.metrics import f1_score, precision_score, recall_score\n",
        "\n",
        "# Step 1: Estimate μ and σ on normal training data (train_fraud_X)\n",
        "mu = train_fraud_X.mean(axis=0).values\n",
        "sigma = train_fraud_X.std(axis=0).values\n",
        "\n",
        "# Step 2: Define function to calculate probability per feature (assuming independence)\n",
        "def univariate_gaussian(X, mu, sigma):\n",
        "    p = np.ones(X.shape[0])\n",
        "    for i in range(len(mu)):\n",
        "        p *= norm.pdf(X[:, i], mu[i], sigma[i])\n",
        "    return p\n",
        "\n",
        "# Step 3: Get probabilities for CV and test sets\n",
        "p_cv = univariate_gaussian(train_cv_X.values, mu, sigma)\n",
        "p_test = univariate_gaussian(train_test_X.values, mu, sigma)\n",
        "\n",
        "# Step 4: Tune threshold (epsilon) on CV set\n",
        "epsilons = np.logspace(-100, -20, 50)\n",
        "best_f1, best_epsilon = 0, None\n",
        "\n",
        "for epsilon in epsilons:\n",
        "    preds = (p_cv < epsilon).astype(int)\n",
        "    f1 = f1_score(train_cv_y, preds)\n",
        "    if f1 > best_f1:\n",
        "        best_f1 = f1\n",
        "        best_epsilon = epsilon\n",
        "        best_precision = precision_score(train_cv_y, preds)\n",
        "        best_recall = recall_score(train_cv_y, preds)\n",
        "\n",
        "print(\"\\nUnivariate Gaussian CV Results:\")\n",
        "print(f\"Best epsilon: {best_epsilon:.2e}\")\n",
        "print(f\"F1: {best_f1:.4f}, Precision: {best_precision:.4f}, Recall: {best_recall:.4f}\")\n",
        "\n",
        "# Step 5: Evaluate on test set\n",
        "test_preds = (p_test < best_epsilon).astype(int)\n",
        "f1 = f1_score(train_test_y, test_preds)\n",
        "precision = precision_score(train_test_y, test_preds)\n",
        "recall = recall_score(train_test_y, test_preds)\n",
        "\n",
        "print(\"\\nUnivariate Gaussian Test Results:\")\n",
        "print(f\"F1: {f1:.4f}, Precision: {precision:.4f}, Recall: {recall:.4f}\")\n"
      ],
      "metadata": {
        "colab": {
          "base_uri": "https://localhost:8080/"
        },
        "id": "ONjtK37VQEzg",
        "outputId": "fe068b4c-66e4-4747-829e-db49bf5c8fc9"
      },
      "execution_count": null,
      "outputs": [
        {
          "output_type": "stream",
          "name": "stdout",
          "text": [
            "\n",
            "Univariate Gaussian CV Results:\n",
            "Best epsilon: 5.18e-55\n",
            "F1: 0.6486, Precision: 0.7273, Recall: 0.5854\n",
            "\n",
            "Univariate Gaussian Test Results:\n",
            "F1: 0.6196, Precision: 0.7047, Recall: 0.5528\n"
          ]
        }
      ]
    },
    {
      "cell_type": "code",
      "source": [
        "import numpy as np\n",
        "import pandas as pd\n",
        "from scipy.stats import norm\n",
        "from sklearn.metrics import f1_score, precision_score, recall_score\n",
        "\n",
        "# Step 1: Use robust statistics (median + IQR-based std)\n",
        "mu = train_fraud_X.median().values\n",
        "iqr = train_fraud_X.quantile(0.75) - train_fraud_X.quantile(0.25)\n",
        "sigma = (iqr / 1.349).values  # IQR to std conversion (approx for normal dist)\n",
        "\n",
        "# Step 2: Compute log-probabilities assuming feature independence\n",
        "def log_univariate_gaussian(X, mu, sigma):\n",
        "    log_p = np.zeros(X.shape[0])\n",
        "    for i in range(len(mu)):\n",
        "        log_p += norm.logpdf(X[:, i], mu[i], sigma[i])\n",
        "    return log_p\n",
        "\n",
        "# Step 3: Get log-probabilities for CV and test sets\n",
        "p_cv = log_univariate_gaussian(train_cv_X.values, mu, sigma)\n",
        "p_test = log_univariate_gaussian(train_test_X.values, mu, sigma)\n",
        "\n",
        "# Step 4: Threshold tuning using CV set\n",
        "epsilons = np.linspace(np.min(p_cv), np.max(p_cv), 100)\n",
        "best_f1 = 0\n",
        "\n",
        "for epsilon in epsilons:\n",
        "    preds = (p_cv < epsilon).astype(int)\n",
        "    f1 = f1_score(train_cv_y, preds)\n",
        "    if f1 > best_f1:\n",
        "        best_f1 = f1\n",
        "        best_epsilon = epsilon\n",
        "        best_precision = precision_score(train_cv_y, preds)\n",
        "        best_recall = recall_score(train_cv_y, preds)\n",
        "\n",
        "# Step 5: Evaluate on test set using best threshold\n",
        "test_preds = (p_test < best_epsilon).astype(int)\n",
        "test_f1 = f1_score(train_test_y, test_preds)\n",
        "test_precision = precision_score(train_test_y, test_preds)\n",
        "test_recall = recall_score(train_test_y, test_preds)\n",
        "\n",
        "# Output results\n",
        "print(\"\\n📊 Final Tuned Univariate Gaussian Results\")\n",
        "\n",
        "print(f\"\\n🔎 Cross-Validation Set:\")\n",
        "print(f\"Best epsilon (log prob): {best_epsilon:.4f}\")\n",
        "print(f\"F1:       {best_f1:.4f}\")\n",
        "print(f\"Precision:{best_precision:.4f}\")\n",
        "print(f\"Recall:   {best_recall:.4f}\")\n",
        "\n",
        "print(f\"\\n✅ Test Set:\")\n",
        "print(f\"F1:       {test_f1:.4f}\")\n",
        "print(f\"Precision:{test_precision:.4f}\")\n",
        "print(f\"Recall:   {test_recall:.4f}\")\n"
      ],
      "metadata": {
        "colab": {
          "base_uri": "https://localhost:8080/"
        },
        "id": "dk1MRfEARBPJ",
        "outputId": "ca35374a-f022-46b0-e64c-a5519fd2f319"
      },
      "execution_count": null,
      "outputs": [
        {
          "output_type": "stream",
          "name": "stdout",
          "text": [
            "\n",
            "📊 Final Tuned Univariate Gaussian Results\n",
            "\n",
            "🔎 Cross-Validation Set:\n",
            "Best epsilon (log prob): -193.3822\n",
            "F1:       0.6264\n",
            "Precision:0.6965\n",
            "Recall:   0.5691\n",
            "\n",
            "✅ Test Set:\n",
            "F1:       0.5864\n",
            "Precision:0.6649\n",
            "Recall:   0.5244\n"
          ]
        }
      ]
    }
  ]
}